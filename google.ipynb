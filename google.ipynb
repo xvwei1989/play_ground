{
 "cells": [
  {
   "cell_type": "code",
   "execution_count": 6,
   "metadata": {
    "collapsed": true
   },
   "outputs": [],
   "source": [
    "import pandas as pd\n",
    "import json"
   ]
  },
  {
   "cell_type": "code",
   "execution_count": null,
   "metadata": {
    "collapsed": true
   },
   "outputs": [],
   "source": [
    "def expand_features(x):\n",
    "    ret = dict(x)\n",
    "    device_info = json.loads(x.device)\n",
    "    geo_info = json.loads(x.geoNetwork)\n",
    "    for k in [u'deviceCategory', u'operatingSystem', u'isMobile', u'browser']:\n",
    "        ret[k] = device_info[k]\n",
    "    for k in [u'city', u'networkDomain', u'metro', u'country', u'region', u'subContinent', u'continent']:\n",
    "        ret[k] = geo_info[k]\n",
    "    \n",
    "    \n",
    "    \n",
    "    "
   ]
  },
  {
   "cell_type": "code",
   "execution_count": 2,
   "metadata": {
    "collapsed": true
   },
   "outputs": [],
   "source": [
    "df = pd.read_csv('train.csv')"
   ]
  },
  {
   "cell_type": "code",
   "execution_count": 13,
   "metadata": {
    "collapsed": false
   },
   "outputs": [
    {
     "data": {
      "text/plain": [
       "{'channelGrouping': 'Organic Search',\n",
       " 'date': 20160902,\n",
       " 'device': '{\"browser\": \"Chrome\", \"browserVersion\": \"not available in demo dataset\", \"browserSize\": \"not available in demo dataset\", \"operatingSystem\": \"Windows\", \"operatingSystemVersion\": \"not available in demo dataset\", \"isMobile\": false, \"mobileDeviceBranding\": \"not available in demo dataset\", \"mobileDeviceModel\": \"not available in demo dataset\", \"mobileInputSelector\": \"not available in demo dataset\", \"mobileDeviceInfo\": \"not available in demo dataset\", \"mobileDeviceMarketingName\": \"not available in demo dataset\", \"flashVersion\": \"not available in demo dataset\", \"language\": \"not available in demo dataset\", \"screenColors\": \"not available in demo dataset\", \"screenResolution\": \"not available in demo dataset\", \"deviceCategory\": \"desktop\"}',\n",
       " 'fullVisitorId': '1131660440785968503',\n",
       " 'geoNetwork': '{\"continent\": \"Asia\", \"subContinent\": \"Western Asia\", \"country\": \"Turkey\", \"region\": \"Izmir\", \"metro\": \"(not set)\", \"city\": \"Izmir\", \"cityId\": \"not available in demo dataset\", \"networkDomain\": \"ttnet.com.tr\", \"latitude\": \"not available in demo dataset\", \"longitude\": \"not available in demo dataset\", \"networkLocation\": \"not available in demo dataset\"}',\n",
       " 'sessionId': '1131660440785968503_1472830385',\n",
       " 'socialEngagementType': 'Not Socially Engaged',\n",
       " 'totals': '{\"visits\": \"1\", \"hits\": \"1\", \"pageviews\": \"1\", \"bounces\": \"1\", \"newVisits\": \"1\"}',\n",
       " 'trafficSource': '{\"campaign\": \"(not set)\", \"source\": \"google\", \"medium\": \"organic\", \"keyword\": \"(not provided)\", \"adwordsClickInfo\": {\"criteriaParameters\": \"not available in demo dataset\"}}',\n",
       " 'visitId': 1472830385,\n",
       " 'visitNumber': 1,\n",
       " 'visitStartTime': 1472830385}"
      ]
     },
     "execution_count": 13,
     "metadata": {},
     "output_type": "execute_result"
    }
   ],
   "source": [
    "dict(df.ix[0])"
   ]
  },
  {
   "cell_type": "code",
   "execution_count": 16,
   "metadata": {
    "collapsed": false
   },
   "outputs": [
    {
     "name": "stdout",
     "output_type": "stream",
     "text": [
      "[u'city', u'networkDomain', u'metro', u'country', u'region', u'subContinent', u'continent']\n"
     ]
    }
   ],
   "source": [
    "y = json.loads(df.geoNetwork[0])\n",
    "ret = []\n",
    "for key in y:\n",
    "    if y[key]!= u'not available in demo dataset':\n",
    "        ret.append(key)\n",
    "print ret"
   ]
  },
  {
   "cell_type": "code",
   "execution_count": 17,
   "metadata": {
    "collapsed": false
   },
   "outputs": [],
   "source": [
    "y1 = df.totals.apply(lambda x: json.loads(x).keys())"
   ]
  },
  {
   "cell_type": "code",
   "execution_count": null,
   "metadata": {
    "collapsed": true
   },
   "outputs": [],
   "source": []
  }
 ],
 "metadata": {
  "kernelspec": {
   "display_name": "Python 2",
   "language": "python",
   "name": "python2"
  },
  "language_info": {
   "codemirror_mode": {
    "name": "ipython",
    "version": 2
   },
   "file_extension": ".py",
   "mimetype": "text/x-python",
   "name": "python",
   "nbconvert_exporter": "python",
   "pygments_lexer": "ipython2",
   "version": "2.7.10"
  }
 },
 "nbformat": 4,
 "nbformat_minor": 0
}
